{
 "cells": [
  {
   "cell_type": "code",
   "execution_count": null,
   "id": "47659cdd-b04e-40da-b612-78d8af9c89aa",
   "metadata": {},
   "outputs": [],
   "source": [
    "pip install -U spacy"
   ]
  },
  {
   "cell_type": "code",
   "execution_count": null,
   "id": "2c5d4619-f151-4218-aec1-3868e88799ae",
   "metadata": {},
   "outputs": [],
   "source": [
    "import spacy\n",
    "from sklearn.feature_extraction.text import TfidfVectorizer\n",
    "from sklearn.svm import SVC"
   ]
  },
  {
   "cell_type": "code",
   "execution_count": null,
   "id": "65dfd26c-e7d4-4eb3-bf50-a4619ac658c7",
   "metadata": {},
   "outputs": [],
   "source": [
    "# Load SpaCy model\n",
    "nlp = spacy.load('en_core_web_sm')"
   ]
  },
  {
   "cell_type": "code",
   "execution_count": null,
   "id": "9ec4bd11-a6c3-4e71-9c57-956cb8802f38",
   "metadata": {},
   "outputs": [],
   "source": [
    "# Example text\n",
    "text = \"John Doe applied for a $500,000 life insurance policy on 2025-02-10.\""
   ]
  },
  {
   "cell_type": "code",
   "execution_count": null,
   "id": "94b3aa10-429c-47b3-a17b-2b02c064347b",
   "metadata": {},
   "outputs": [],
   "source": [
    "# Named Entity Recognition\n",
    "doc = nlp(text)\n",
    "for ent in doc.ents:\n",
    "    print(ent.text, ent.label_)"
   ]
  },
  {
   "cell_type": "code",
   "execution_count": null,
   "id": "79262130-ddfc-47bf-ab98-c61c674b928a",
   "metadata": {},
   "outputs": [],
   "source": [
    "# Text Classification\n",
    "texts = [\"Life insurance application\", \"Health insurance claim\"]\n",
    "labels = [0, 1]  # 0: Application, 1: Claim"
   ]
  },
  {
   "cell_type": "code",
   "execution_count": null,
   "id": "d211f407-e59d-495a-8095-e9b52f741e03",
   "metadata": {},
   "outputs": [],
   "source": [
    "# Vectorize text\n",
    "vectorizer = TfidfVectorizer()\n",
    "X = vectorizer.fit_transform(texts)"
   ]
  },
  {
   "cell_type": "code",
   "execution_count": null,
   "id": "ed64c841-2ba0-4e9e-8a8a-4e71d5464725",
   "metadata": {},
   "outputs": [],
   "source": [
    "# Train classifier\n",
    "clf = SVC()\n",
    "clf.fit(X, labels)"
   ]
  },
  {
   "cell_type": "code",
   "execution_count": null,
   "id": "80f9fe29-c0c5-4165-be4b-6e65bf6fe41d",
   "metadata": {},
   "outputs": [],
   "source": [
    "# Predict category\n",
    "new_text = [\"New life insurance application\"]\n",
    "new_X = vectorizer.transform(new_text)\n",
    "prediction = clf.predict(new_X)\n",
    "print(\"Category:\", prediction)"
   ]
  }
 ],
 "metadata": {
  "kernelspec": {
   "display_name": "Python 3 (ipykernel)",
   "language": "python",
   "name": "python3"
  },
  "language_info": {
   "codemirror_mode": {
    "name": "ipython",
    "version": 3
   },
   "file_extension": ".py",
   "mimetype": "text/x-python",
   "name": "python",
   "nbconvert_exporter": "python",
   "pygments_lexer": "ipython3",
   "version": "3.12.4"
  }
 },
 "nbformat": 4,
 "nbformat_minor": 5
}
