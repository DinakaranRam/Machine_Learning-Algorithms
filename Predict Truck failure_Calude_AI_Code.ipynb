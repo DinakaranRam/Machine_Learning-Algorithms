import pandas as pd
import numpy as np
from sklearn.model_selection import train_test_split
from sklearn.preprocessing import StandardScaler
from sklearn.ensemble import RandomForestClassifier
from sklearn.metrics import classification_report, confusion_matrix
import joblib

class TruckFailurePredictionModel:
    def __init__(self):
        """
        Initialize the truck failure prediction model
        """
        self.model = None
        self.scaler = StandardScaler()
    
    def prepare_data(self, data):
        """
        Prepare and preprocess the input data
        
        Parameters:
        -----------
        data : pandas.DataFrame
            Input dataset with sensor and maintenance features
        
        Returns:
        --------
        X : numpy.ndarray
            Preprocessed feature matrix
        y : numpy.ndarray
            Target variable (engine failure)
        """
        # Feature engineering
        # Example features (modify based on actual sensor data)
        features = [
            'engine_temperature', 
            'oil_pressure', 
            'vibration_level', 
            'miles_since_last_maintenance',
            'engine_runtime_hours',
            'fuel_consumption_rate'
        ]
        
        # Separate features and target
        X = data[features]
        y = data['engine_failure']
        
        # Scale features
        X_scaled = self.scaler.fit_transform(X)
        
        return X_scaled, y
    
    def train_model(self, data):
        """
        Train a Random Forest Classifier for engine failure prediction
        
        Parameters:
        -----------
        data : pandas.DataFrame
            Training dataset
        """
        # Prepare data
        X, y = self.prepare_data(data)
        
        # Split data
        X_train, X_test, y_train, y_test = train_test_split(
            X, y, test_size=0.2, random_state=42
        )
        
        # Initialize and train Random Forest Classifier
        self.model = RandomForestClassifier(
            n_estimators=100, 
            random_state=42, 
            class_weight='balanced'
        )
        self.model.fit(X_train, y_train)
        
        # Evaluate model
        y_pred = self.model.predict(X_test)
        print("Model Performance:")
        print(classification_report(y_test, y_pred))
        
        return self
    
    def predict_failure_probability(self, current_sensor_data):
        """
        Predict the probability of engine failure
        
        Parameters:
        -----------
        current_sensor_data : dict or pandas.DataFrame
            Current sensor readings
        
        Returns:
        --------
        failure_probability : float
            Probability of engine failure
        """
        if self.model is None:
            raise ValueError("Model must be trained first")
        
        # Convert input to DataFrame if it's a dictionary
        if isinstance(current_sensor_data, dict):
            current_sensor_data = pd.DataFrame([current_sensor_data])
        
        # Prepare and scale current data
        features = [
            'engine_temperature', 
            'oil_pressure', 
            'vibration_level', 
            'miles_since_last_maintenance',
            'engine_runtime_hours',
            'fuel_consumption_rate'
        ]
        
        X_current = current_sensor_data[features]
        X_current_scaled = self.scaler.transform(X_current)
        
        # Predict failure probability
        failure_prob = self.model.predict_proba(X_current_scaled)[0][1]
        
        return failure_prob
    
    def save_model(self, filepath='truck_failure_model.joblib'):
        """
        Save trained model and scaler
        
        Parameters:
        -----------
        filepath : str, optional
            Path to save the model
        """
        joblib.dump({
            'model': self.model,
            'scaler': self.scaler
        }, filepath)
    
    def load_model(self, filepath='truck_failure_model.joblib'):
        """
        Load previously trained model and scaler
        
        Parameters:
        -----------
        filepath : str, optional
            Path to load the model from
        """
        saved_data = joblib.load(filepath)
        self.model = saved_data['model']
        self.scaler = saved_data['scaler']
        return self

# Example usage
def main():
    # Simulate truck maintenance and sensor data
    np.random.seed(42)
    
    def generate_sample_data(n_samples=1000):
        """Generate synthetic truck maintenance dataset"""
        data = pd.DataFrame({
            'engine_temperature': np.random.normal(90, 15, n_samples),
            'oil_pressure': np.random.normal(50, 10, n_samples),
            'vibration_level': np.random.normal(0.5, 0.2, n_samples),
            'miles_since_last_maintenance': np.random.uniform(0, 50000, n_samples),
            'engine_runtime_hours': np.random.uniform(0, 10000, n_samples),
            'fuel_consumption_rate': np.random.normal(8, 2, n_samples),
            'engine_failure': np.random.choice([0, 1], n_samples, p=[0.9, 0.1])
        })
        return data

    # Generate sample data
    truck_data = generate_sample_data()
    
    # Initialize and train model
    predictor = TruckFailurePredictionModel()
    predictor.train_model(truck_data)
    
    # Save the trained model
    predictor.save_model()
    
    # Example of predicting failure for a new truck
    current_truck_data = {
        'engine_temperature': 95,
        'oil_pressure': 45,
        'vibration_level': 0.6,
        'miles_since_last_maintenance': 45000,
        'engine_runtime_hours': 8500,
        'fuel_consumption_rate': 9.2
    }
    
    # Predict failure probability
    failure_prob = predictor.predict_failure_probability(current_truck_data)
    print(f"\nPredicted Engine Failure Probability: {failure_prob:.2%}")

if __name__ == "__main__":
    main()