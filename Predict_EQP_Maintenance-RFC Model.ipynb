{
 "cells": [
  {
   "cell_type": "code",
   "execution_count": 1,
   "id": "f519b885-3b70-488a-ac92-570207a18611",
   "metadata": {},
   "outputs": [],
   "source": [
    "import pandas as pd\n",
    "from sklearn.model_selection import train_test_split\n",
    "from sklearn.ensemble import RandomForestClassifier\n",
    "from sklearn.metrics import classification_report"
   ]
  },
  {
   "cell_type": "code",
   "execution_count": null,
   "id": "2d6f1393-769b-4a1e-a24e-093c73aa6e04",
   "metadata": {},
   "outputs": [],
   "source": [
    "# Load dataset\n",
    "data = pd.read_csv('sensor_data.csv')"
   ]
  },
  {
   "cell_type": "code",
   "execution_count": null,
   "id": "43c637ec-9be0-43e9-9e9c-0fa643d76bc9",
   "metadata": {},
   "outputs": [],
   "source": [
    "# Feature engineering\n",
    "data['temp_change'] = data['temperature'].diff()\n",
    "data['vibration_change'] = data['vibration'].diff()"
   ]
  },
  {
   "cell_type": "code",
   "execution_count": null,
   "id": "0fb5ad40-f96a-437d-9d21-098dffb1fcab",
   "metadata": {},
   "outputs": [],
   "source": [
    "# Prepare features and labels\n",
    "X = data[['temperature', 'vibration', 'temp_change', 'vibration_change']].dropna()\n",
    "y = data['failure'].shift(-1).dropna()"
   ]
  },
  {
   "cell_type": "code",
   "execution_count": null,
   "id": "386ff0a1-8975-43b7-ae8c-33cbada10666",
   "metadata": {},
   "outputs": [],
   "source": [
    "# Split data into training and testing sets\n",
    "X_train, X_test, y_train, y_test = train_test_split(X, y, test_size=0.2, random_state=42)"
   ]
  },
  {
   "cell_type": "code",
   "execution_count": null,
   "id": "589abd20-baaa-489f-8045-b838f296eba5",
   "metadata": {},
   "outputs": [],
   "source": [
    "# Train Random Forest model\n",
    "model = RandomForestClassifier(n_estimators=100, random_state=42)\n",
    "model.fit(X_train, y_train)"
   ]
  },
  {
   "cell_type": "code",
   "execution_count": null,
   "id": "9cec29af-9227-4151-8074-9b94a44de4c1",
   "metadata": {},
   "outputs": [],
   "source": [
    "# Make predictions\n",
    "y_pred = model.predict(X_test)"
   ]
  },
  {
   "cell_type": "code",
   "execution_count": null,
   "id": "3e67788f-eaf3-4d2b-ac0b-331f64b11e12",
   "metadata": {},
   "outputs": [],
   "source": [
    "# Evaluate model\n",
    "print(classification_report(y_test, y_pred))"
   ]
  }
 ],
 "metadata": {
  "kernelspec": {
   "display_name": "Python 3 (ipykernel)",
   "language": "python",
   "name": "python3"
  },
  "language_info": {
   "codemirror_mode": {
    "name": "ipython",
    "version": 3
   },
   "file_extension": ".py",
   "mimetype": "text/x-python",
   "name": "python",
   "nbconvert_exporter": "python",
   "pygments_lexer": "ipython3",
   "version": "3.12.4"
  }
 },
 "nbformat": 4,
 "nbformat_minor": 5
}
